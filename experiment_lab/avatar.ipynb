{
 "cells": [
  {
   "cell_type": "code",
   "execution_count": null,
   "id": "5608b4ff",
   "metadata": {},
   "outputs": [],
   "source": [
    "api = \"bmV3YXdzZm9yMjAyNUBnbWFpbC5jb20:1WLfltmquymqDZxZTK0Gf\""
   ]
  },
  {
   "cell_type": "code",
   "execution_count": null,
   "id": "c8c679a7",
   "metadata": {},
   "outputs": [],
   "source": [
    "import requests\n",
    "from config import NEWS_API_KEY\n",
    "\n",
    "def fetch_latest_news():\n",
    "    url = f\"https://newsapi.org/v2/top-headlines?language=en&pageSize=1&apiKey={NEWS_API_KEY}\"\n",
    "    response = requests.get(url)\n",
    "    articles = response.json().get(\"articles\", [])\n",
    "    if articles:\n",
    "        return articles[0]['title'], articles[0]['description'], articles[0]['content']\n",
    "    return None, None, None\n"
   ]
  },
  {
   "cell_type": "code",
   "execution_count": null,
   "id": "acc8ae03",
   "metadata": {},
   "outputs": [],
   "source": [
    "import openai\n",
    "from config import OPENAI_API_KEY\n",
    "\n",
    "openai.api_key = OPENAI_API_KEY\n",
    "\n",
    "def generate_anchor_script(headline, description):\n",
    "    prompt = f\"\"\"\n",
    "Turn the following news into a 60-second anchor-style spoken script:\n",
    "\n",
    "Headline: {headline}\n",
    "Description: {description}\n",
    "\n",
    "Make it professional and suitable for video narration.\n",
    "\"\"\"\n",
    "    response = openai.ChatCompletion.create(\n",
    "        model=\"gpt-4\",\n",
    "        messages=[{\"role\": \"user\", \"content\": prompt}]\n",
    "    )\n",
    "    return response.choices[0].message.content.strip()\n"
   ]
  },
  {
   "cell_type": "code",
   "execution_count": 8,
   "id": "f301f0a6",
   "metadata": {},
   "outputs": [
    {
     "name": "stdout",
     "output_type": "stream",
     "text": [
      "Collecting elevenlabs\n",
      "  Downloading elevenlabs-2.0.0-py3-none-any.whl.metadata (6.8 kB)\n",
      "Collecting httpx>=0.21.2 (from elevenlabs)\n",
      "  Using cached httpx-0.28.1-py3-none-any.whl.metadata (7.1 kB)\n",
      "Requirement already satisfied: pydantic>=1.9.2 in d:\\neetengine\\nenv\\lib\\site-packages (from elevenlabs) (2.11.4)\n",
      "Requirement already satisfied: pydantic-core<3.0.0,>=2.18.2 in d:\\neetengine\\nenv\\lib\\site-packages (from elevenlabs) (2.33.2)\n",
      "Requirement already satisfied: requests>=2.20 in d:\\neetengine\\nenv\\lib\\site-packages (from elevenlabs) (2.32.3)\n",
      "Requirement already satisfied: typing_extensions>=4.0.0 in d:\\neetengine\\nenv\\lib\\site-packages (from elevenlabs) (4.13.2)\n",
      "Collecting websockets>=11.0 (from elevenlabs)\n",
      "  Using cached websockets-15.0.1-cp312-cp312-win_amd64.whl.metadata (7.0 kB)\n",
      "Requirement already satisfied: anyio in d:\\neetengine\\nenv\\lib\\site-packages (from httpx>=0.21.2->elevenlabs) (4.9.0)\n",
      "Requirement already satisfied: certifi in d:\\neetengine\\nenv\\lib\\site-packages (from httpx>=0.21.2->elevenlabs) (2025.4.26)\n",
      "Collecting httpcore==1.* (from httpx>=0.21.2->elevenlabs)\n",
      "  Using cached httpcore-1.0.9-py3-none-any.whl.metadata (21 kB)\n",
      "Requirement already satisfied: idna in d:\\neetengine\\nenv\\lib\\site-packages (from httpx>=0.21.2->elevenlabs) (3.10)\n",
      "Collecting h11>=0.16 (from httpcore==1.*->httpx>=0.21.2->elevenlabs)\n",
      "  Using cached h11-0.16.0-py3-none-any.whl.metadata (8.3 kB)\n",
      "Requirement already satisfied: annotated-types>=0.6.0 in d:\\neetengine\\nenv\\lib\\site-packages (from pydantic>=1.9.2->elevenlabs) (0.7.0)\n",
      "Requirement already satisfied: typing-inspection>=0.4.0 in d:\\neetengine\\nenv\\lib\\site-packages (from pydantic>=1.9.2->elevenlabs) (0.4.0)\n",
      "Requirement already satisfied: charset-normalizer<4,>=2 in d:\\neetengine\\nenv\\lib\\site-packages (from requests>=2.20->elevenlabs) (3.4.2)\n",
      "Requirement already satisfied: urllib3<3,>=1.21.1 in d:\\neetengine\\nenv\\lib\\site-packages (from requests>=2.20->elevenlabs) (2.4.0)\n",
      "Requirement already satisfied: sniffio>=1.1 in d:\\neetengine\\nenv\\lib\\site-packages (from anyio->httpx>=0.21.2->elevenlabs) (1.3.1)\n",
      "Downloading elevenlabs-2.0.0-py3-none-any.whl (671 kB)\n",
      "   ---------------------------------------- 0.0/671.1 kB ? eta -:--:--\n",
      "   ---------------------------------------- 671.1/671.1 kB 8.7 MB/s eta 0:00:00\n",
      "Using cached httpx-0.28.1-py3-none-any.whl (73 kB)\n",
      "Using cached httpcore-1.0.9-py3-none-any.whl (78 kB)\n",
      "Using cached h11-0.16.0-py3-none-any.whl (37 kB)\n",
      "Using cached websockets-15.0.1-cp312-cp312-win_amd64.whl (176 kB)\n",
      "Installing collected packages: websockets, h11, httpcore, httpx, elevenlabs\n",
      "\n",
      "   ---------------------------------------- 0/5 [websockets]\n",
      "   ---------------------------------------- 0/5 [websockets]\n",
      "   ---------------------------------------- 0/5 [websockets]\n",
      "   ---------------------------------------- 0/5 [websockets]\n",
      "   ---------------------------------------- 0/5 [websockets]\n",
      "   ---------------------------------------- 0/5 [websockets]\n",
      "   ---------------------------------------- 0/5 [websockets]\n",
      "   ---------------------------------------- 0/5 [websockets]\n",
      "   ---------------------------------------- 0/5 [websockets]\n",
      "   ---------------------------------------- 0/5 [websockets]\n",
      "   ---------------------------------------- 0/5 [websockets]\n",
      "   -------- ------------------------------- 1/5 [h11]\n",
      "   -------- ------------------------------- 1/5 [h11]\n",
      "   -------- ------------------------------- 1/5 [h11]\n",
      "   ---------------- ----------------------- 2/5 [httpcore]\n",
      "   ---------------- ----------------------- 2/5 [httpcore]\n",
      "   ---------------- ----------------------- 2/5 [httpcore]\n",
      "   ---------------- ----------------------- 2/5 [httpcore]\n",
      "   ---------------- ----------------------- 2/5 [httpcore]\n",
      "   ------------------------ --------------- 3/5 [httpx]\n",
      "   ------------------------ --------------- 3/5 [httpx]\n",
      "   ------------------------ --------------- 3/5 [httpx]\n",
      "   ------------------------ --------------- 3/5 [httpx]\n",
      "   ------------------------ --------------- 3/5 [httpx]\n",
      "   ------------------------ --------------- 3/5 [httpx]\n",
      "   -------------------------------- ------- 4/5 [elevenlabs]\n",
      "   -------------------------------- ------- 4/5 [elevenlabs]\n",
      "   -------------------------------- ------- 4/5 [elevenlabs]\n",
      "   -------------------------------- ------- 4/5 [elevenlabs]\n",
      "   -------------------------------- ------- 4/5 [elevenlabs]\n",
      "   -------------------------------- ------- 4/5 [elevenlabs]\n",
      "   -------------------------------- ------- 4/5 [elevenlabs]\n",
      "   -------------------------------- ------- 4/5 [elevenlabs]\n",
      "   -------------------------------- ------- 4/5 [elevenlabs]\n",
      "   -------------------------------- ------- 4/5 [elevenlabs]\n",
      "   -------------------------------- ------- 4/5 [elevenlabs]\n",
      "   -------------------------------- ------- 4/5 [elevenlabs]\n",
      "   -------------------------------- ------- 4/5 [elevenlabs]\n",
      "   -------------------------------- ------- 4/5 [elevenlabs]\n",
      "   -------------------------------- ------- 4/5 [elevenlabs]\n",
      "   -------------------------------- ------- 4/5 [elevenlabs]\n",
      "   -------------------------------- ------- 4/5 [elevenlabs]\n",
      "   -------------------------------- ------- 4/5 [elevenlabs]\n",
      "   -------------------------------- ------- 4/5 [elevenlabs]\n",
      "   -------------------------------- ------- 4/5 [elevenlabs]\n",
      "   -------------------------------- ------- 4/5 [elevenlabs]\n",
      "   -------------------------------- ------- 4/5 [elevenlabs]\n",
      "   -------------------------------- ------- 4/5 [elevenlabs]\n",
      "   -------------------------------- ------- 4/5 [elevenlabs]\n",
      "   -------------------------------- ------- 4/5 [elevenlabs]\n",
      "   -------------------------------- ------- 4/5 [elevenlabs]\n",
      "   -------------------------------- ------- 4/5 [elevenlabs]\n",
      "   -------------------------------- ------- 4/5 [elevenlabs]\n",
      "   -------------------------------- ------- 4/5 [elevenlabs]\n",
      "   -------------------------------- ------- 4/5 [elevenlabs]\n",
      "   -------------------------------- ------- 4/5 [elevenlabs]\n",
      "   -------------------------------- ------- 4/5 [elevenlabs]\n",
      "   -------------------------------- ------- 4/5 [elevenlabs]\n",
      "   -------------------------------- ------- 4/5 [elevenlabs]\n",
      "   -------------------------------- ------- 4/5 [elevenlabs]\n",
      "   -------------------------------- ------- 4/5 [elevenlabs]\n",
      "   -------------------------------- ------- 4/5 [elevenlabs]\n",
      "   -------------------------------- ------- 4/5 [elevenlabs]\n",
      "   -------------------------------- ------- 4/5 [elevenlabs]\n",
      "   -------------------------------- ------- 4/5 [elevenlabs]\n",
      "   -------------------------------- ------- 4/5 [elevenlabs]\n",
      "   -------------------------------- ------- 4/5 [elevenlabs]\n",
      "   -------------------------------- ------- 4/5 [elevenlabs]\n",
      "   -------------------------------- ------- 4/5 [elevenlabs]\n",
      "   -------------------------------- ------- 4/5 [elevenlabs]\n",
      "   -------------------------------- ------- 4/5 [elevenlabs]\n",
      "   -------------------------------- ------- 4/5 [elevenlabs]\n",
      "   -------------------------------- ------- 4/5 [elevenlabs]\n",
      "   -------------------------------- ------- 4/5 [elevenlabs]\n",
      "   -------------------------------- ------- 4/5 [elevenlabs]\n",
      "   -------------------------------- ------- 4/5 [elevenlabs]\n",
      "   -------------------------------- ------- 4/5 [elevenlabs]\n",
      "   -------------------------------- ------- 4/5 [elevenlabs]\n",
      "   -------------------------------- ------- 4/5 [elevenlabs]\n",
      "   -------------------------------- ------- 4/5 [elevenlabs]\n",
      "   -------------------------------- ------- 4/5 [elevenlabs]\n",
      "   -------------------------------- ------- 4/5 [elevenlabs]\n",
      "   -------------------------------- ------- 4/5 [elevenlabs]\n",
      "   -------------------------------- ------- 4/5 [elevenlabs]\n",
      "   -------------------------------- ------- 4/5 [elevenlabs]\n",
      "   -------------------------------- ------- 4/5 [elevenlabs]\n",
      "   -------------------------------- ------- 4/5 [elevenlabs]\n",
      "   -------------------------------- ------- 4/5 [elevenlabs]\n",
      "   -------------------------------- ------- 4/5 [elevenlabs]\n",
      "   -------------------------------- ------- 4/5 [elevenlabs]\n",
      "   -------------------------------- ------- 4/5 [elevenlabs]\n",
      "   -------------------------------- ------- 4/5 [elevenlabs]\n",
      "   -------------------------------- ------- 4/5 [elevenlabs]\n",
      "   -------------------------------- ------- 4/5 [elevenlabs]\n",
      "   -------------------------------- ------- 4/5 [elevenlabs]\n",
      "   -------------------------------- ------- 4/5 [elevenlabs]\n",
      "   -------------------------------- ------- 4/5 [elevenlabs]\n",
      "   -------------------------------- ------- 4/5 [elevenlabs]\n",
      "   -------------------------------- ------- 4/5 [elevenlabs]\n",
      "   -------------------------------- ------- 4/5 [elevenlabs]\n",
      "   -------------------------------- ------- 4/5 [elevenlabs]\n",
      "   -------------------------------- ------- 4/5 [elevenlabs]\n",
      "   -------------------------------- ------- 4/5 [elevenlabs]\n",
      "   -------------------------------- ------- 4/5 [elevenlabs]\n",
      "   -------------------------------- ------- 4/5 [elevenlabs]\n",
      "   -------------------------------- ------- 4/5 [elevenlabs]\n",
      "   -------------------------------- ------- 4/5 [elevenlabs]\n",
      "   -------------------------------- ------- 4/5 [elevenlabs]\n",
      "   -------------------------------- ------- 4/5 [elevenlabs]\n",
      "   -------------------------------- ------- 4/5 [elevenlabs]\n",
      "   -------------------------------- ------- 4/5 [elevenlabs]\n",
      "   -------------------------------- ------- 4/5 [elevenlabs]\n",
      "   -------------------------------- ------- 4/5 [elevenlabs]\n",
      "   -------------------------------- ------- 4/5 [elevenlabs]\n",
      "   -------------------------------- ------- 4/5 [elevenlabs]\n",
      "   -------------------------------- ------- 4/5 [elevenlabs]\n",
      "   -------------------------------- ------- 4/5 [elevenlabs]\n",
      "   -------------------------------- ------- 4/5 [elevenlabs]\n",
      "   -------------------------------- ------- 4/5 [elevenlabs]\n",
      "   -------------------------------- ------- 4/5 [elevenlabs]\n",
      "   -------------------------------- ------- 4/5 [elevenlabs]\n",
      "   ---------------------------------------- 5/5 [elevenlabs]\n",
      "\n",
      "Successfully installed elevenlabs-2.0.0 h11-0.16.0 httpcore-1.0.9 httpx-0.28.1 websockets-15.0.1\n",
      "Note: you may need to restart the kernel to use updated packages.\n"
     ]
    }
   ],
   "source": [
    "pip install elevenlabs"
   ]
  },
  {
   "cell_type": "code",
   "execution_count": 9,
   "id": "5335d2e1",
   "metadata": {},
   "outputs": [
    {
     "data": {
      "text/plain": [
       "<generator object TextToSpeechClient.convert at 0x000002989D2BA7A0>"
      ]
     },
     "execution_count": 9,
     "metadata": {},
     "output_type": "execute_result"
    }
   ],
   "source": [
    "from elevenlabs import ElevenLabs\n",
    "\n",
    "client = ElevenLabs(\n",
    "    api_key=\"YOUR_API_KEY\",\n",
    ")\n",
    "client.text_to_speech.convert(\n",
    "    voice_id=\"JBFqnCBsd6RMkjVDRZzb\",\n",
    "    output_format=\"mp3_44100_128\",\n",
    "    text=\"The first move is what sets everything in motion.\",\n",
    "    model_id=\"eleven_multilingual_v2\",\n",
    ")\n"
   ]
  },
  {
   "cell_type": "code",
   "execution_count": 3,
   "id": "3f8ec26e",
   "metadata": {},
   "outputs": [
    {
     "name": "stdout",
     "output_type": "stream",
     "text": [
      "Collecting python-dotenv\n",
      "  Using cached python_dotenv-1.1.0-py3-none-any.whl.metadata (24 kB)\n",
      "Using cached python_dotenv-1.1.0-py3-none-any.whl (20 kB)\n",
      "Installing collected packages: python-dotenv\n",
      "Successfully installed python-dotenv-1.1.0\n",
      "Note: you may need to restart the kernel to use updated packages.\n"
     ]
    }
   ],
   "source": [
    "pip install python-dotenv"
   ]
  },
  {
   "cell_type": "code",
   "execution_count": 4,
   "id": "d03115c8",
   "metadata": {},
   "outputs": [
    {
     "data": {
      "text/plain": [
       "True"
      ]
     },
     "execution_count": 4,
     "metadata": {},
     "output_type": "execute_result"
    }
   ],
   "source": [
    "import os\n",
    "from dotenv import load_dotenv\n",
    "load_dotenv()"
   ]
  },
  {
   "cell_type": "code",
   "execution_count": 10,
   "id": "648449c4",
   "metadata": {},
   "outputs": [],
   "source": [
    "import requests\n",
    "ELEVENLABS_API_KEY = os.getenv(\"ELEVENLABS_API_KEY\")\n",
    "\n",
    "def generate_tts_audio(text, voice_id=\"Rachel\"):\n",
    "    url = f\"https://api.elevenlabs.io/v1/text-to-speech/{voice_id}\"\n",
    "    headers = {\n",
    "        \"xi-api-key\": ELEVENLABS_API_KEY,\n",
    "        \"Content-Type\": \"application/json\"\n",
    "    }\n",
    "    data = {\n",
    "        \"text\": text,\n",
    "        \"voice_settings\": {\"stability\": 0.5, \"similarity_boost\": 0.75}\n",
    "    }\n",
    "    response = requests.post(url, json=data, headers=headers)\n",
    "    audio_path = \"output/audio.mp3\"\n",
    "    with open(audio_path, \"wb\") as f:\n",
    "        f.write(response.content)\n",
    "    return audio_path\n"
   ]
  },
  {
   "cell_type": "code",
   "execution_count": 1,
   "id": "3bb7eff1",
   "metadata": {},
   "outputs": [
    {
     "name": "stdout",
     "output_type": "stream",
     "text": [
      "Collecting gTTS\n",
      "  Using cached gTTS-2.5.4-py3-none-any.whl.metadata (4.1 kB)\n",
      "Requirement already satisfied: requests<3,>=2.27 in d:\\neetengine\\nenv\\lib\\site-packages (from gTTS) (2.32.3)\n",
      "Collecting click<8.2,>=7.1 (from gTTS)\n",
      "  Using cached click-8.1.8-py3-none-any.whl.metadata (2.3 kB)\n",
      "Requirement already satisfied: colorama in d:\\neetengine\\nenv\\lib\\site-packages (from click<8.2,>=7.1->gTTS) (0.4.6)\n",
      "Requirement already satisfied: charset-normalizer<4,>=2 in d:\\neetengine\\nenv\\lib\\site-packages (from requests<3,>=2.27->gTTS) (3.4.2)\n",
      "Requirement already satisfied: idna<4,>=2.5 in d:\\neetengine\\nenv\\lib\\site-packages (from requests<3,>=2.27->gTTS) (3.10)\n",
      "Requirement already satisfied: urllib3<3,>=1.21.1 in d:\\neetengine\\nenv\\lib\\site-packages (from requests<3,>=2.27->gTTS) (2.4.0)\n",
      "Requirement already satisfied: certifi>=2017.4.17 in d:\\neetengine\\nenv\\lib\\site-packages (from requests<3,>=2.27->gTTS) (2025.4.26)\n",
      "Using cached gTTS-2.5.4-py3-none-any.whl (29 kB)\n",
      "Using cached click-8.1.8-py3-none-any.whl (98 kB)\n",
      "Installing collected packages: click, gTTS\n",
      "\n",
      "  Attempting uninstall: click\n",
      "\n",
      "    Found existing installation: click 8.2.0\n",
      "\n",
      "    Uninstalling click-8.2.0:\n",
      "\n",
      "      Successfully uninstalled click-8.2.0\n",
      "\n",
      "   ---------------------------------------- 0/2 [click]\n",
      "   ---------------------------------------- 0/2 [click]\n",
      "   ---------------------------------------- 0/2 [click]\n",
      "   ---------------------------------------- 0/2 [click]\n",
      "   ---------------------------------------- 0/2 [click]\n",
      "   ---------------------------------------- 0/2 [click]\n",
      "   ---------------------------------------- 0/2 [click]\n",
      "   ---------------------------------------- 0/2 [click]\n",
      "   ---------------------------------------- 0/2 [click]\n",
      "   ---------------------------------------- 0/2 [click]\n",
      "   ---------------------------------------- 0/2 [click]\n",
      "   ---------------------------------------- 0/2 [click]\n",
      "   ---------------------------------------- 0/2 [click]\n",
      "   -------------------- ------------------- 1/2 [gTTS]\n",
      "   -------------------- ------------------- 1/2 [gTTS]\n",
      "   -------------------- ------------------- 1/2 [gTTS]\n",
      "   -------------------- ------------------- 1/2 [gTTS]\n",
      "   -------------------- ------------------- 1/2 [gTTS]\n",
      "   -------------------- ------------------- 1/2 [gTTS]\n",
      "   -------------------- ------------------- 1/2 [gTTS]\n",
      "   ---------------------------------------- 2/2 [gTTS]\n",
      "\n",
      "Successfully installed click-8.1.8 gTTS-2.5.4\n",
      "Note: you may need to restart the kernel to use updated packages.\n"
     ]
    }
   ],
   "source": [
    "pip install gTTS\n"
   ]
  },
  {
   "cell_type": "code",
   "execution_count": 2,
   "id": "c21848f9",
   "metadata": {},
   "outputs": [
    {
     "data": {
      "text/plain": [
       "0"
      ]
     },
     "execution_count": 2,
     "metadata": {},
     "output_type": "execute_result"
    }
   ],
   "source": [
    "from gtts import gTTS\n",
    "import os\n",
    "\n",
    "text = \"Good evening. Today’s top story — scientists have unveiled a major breakthrough in fusion energy,bringing us one step closer to a clean and limitless power source.The announcement came earlier this morning, sparking excitement across the globe.\"\n",
    "tts = gTTS(text=text, lang='en')\n",
    "\n",
    "tts.save(\"output.mp3\")\n",
    "os.system(\"start output.mp3\")  # Windows\n"
   ]
  },
  {
   "cell_type": "code",
   "execution_count": 11,
   "id": "5d52e14d",
   "metadata": {},
   "outputs": [
    {
     "name": "stdout",
     "output_type": "stream",
     "text": [
      "🔊 Audio generated.\n"
     ]
    }
   ],
   "source": [
    "script = \"\"\"\n",
    "Good evening. Today’s top story — scientists have unveiled a major breakthrough in fusion energy,\n",
    "bringing us one step closer to a clean and limitless power source.\n",
    "The announcement came earlier this morning, sparking excitement across the globe.\n",
    "\"\"\"\n",
    "\n",
    "# ✅ Step 2: Generate TTS from script\n",
    "audio_file = generate_tts_audio(script)\n",
    "print(\"🔊 Audio generated.\")"
   ]
  },
  {
   "cell_type": "code",
   "execution_count": 12,
   "id": "3c952237",
   "metadata": {},
   "outputs": [
    {
     "data": {
      "text/plain": [
       "'sk_15da841646ee95a6a5bd7df2bc079e25e7e220e8650544f5'"
      ]
     },
     "execution_count": 12,
     "metadata": {},
     "output_type": "execute_result"
    }
   ],
   "source": [
    "ELEVENLABS_API_KEY"
   ]
  },
  {
   "cell_type": "code",
   "execution_count": 5,
   "id": "837afe7f",
   "metadata": {},
   "outputs": [],
   "source": [
    "D_ID_API_KEY = os.getenv(\"D_ID_API_KEY\")"
   ]
  },
  {
   "cell_type": "code",
   "execution_count": 6,
   "id": "adcac06a",
   "metadata": {},
   "outputs": [
    {
     "data": {
      "text/plain": [
       "'bmV3YXdzZm9yMjAyNUBnbWFpbC5jb20:1WLfltmquymqDZxZTK0Gf'"
      ]
     },
     "execution_count": 6,
     "metadata": {},
     "output_type": "execute_result"
    }
   ],
   "source": [
    "D_ID_API_KEY"
   ]
  },
  {
   "cell_type": "code",
   "execution_count": 7,
   "id": "3c828a65",
   "metadata": {},
   "outputs": [],
   "source": [
    "import os\n",
    "import requests\n",
    "import time\n",
    "\n",
    "D_ID_API_KEY = os.getenv(\"D_ID_API_KEY\")\n",
    "\n",
    "def upload_audio(audio_path):\n",
    "    upload_url = \"https://api.d-id.com/uploads\"\n",
    "    headers = {\n",
    "        \"Authorization\": f\"Bearer {D_ID_API_KEY}\"\n",
    "    }\n",
    "    with open(audio_path, \"rb\") as f:\n",
    "        files = {\"file\": (\"audio.mp3\", f, \"audio/mpeg\")}\n",
    "        response = requests.post(upload_url, headers=headers, files=files)\n",
    "    response.raise_for_status()\n",
    "    return response.json()[\"url\"]"
   ]
  },
  {
   "cell_type": "code",
   "execution_count": 8,
   "id": "6a011610",
   "metadata": {},
   "outputs": [
    {
     "ename": "HTTPError",
     "evalue": "403 Client Error: Forbidden for url: https://api.d-id.com/uploads",
     "output_type": "error",
     "traceback": [
      "\u001b[31m---------------------------------------------------------------------------\u001b[39m",
      "\u001b[31mHTTPError\u001b[39m                                 Traceback (most recent call last)",
      "\u001b[36mCell\u001b[39m\u001b[36m \u001b[39m\u001b[32mIn[8]\u001b[39m\u001b[32m, line 1\u001b[39m\n\u001b[32m----> \u001b[39m\u001b[32m1\u001b[39m audio_url = \u001b[43mupload_audio\u001b[49m\u001b[43m(\u001b[49m\u001b[33;43m\"\u001b[39;49m\u001b[33;43moutput/output.mp3\u001b[39;49m\u001b[33;43m\"\u001b[39;49m\u001b[43m)\u001b[49m\n",
      "\u001b[36mCell\u001b[39m\u001b[36m \u001b[39m\u001b[32mIn[7]\u001b[39m\u001b[32m, line 15\u001b[39m, in \u001b[36mupload_audio\u001b[39m\u001b[34m(audio_path)\u001b[39m\n\u001b[32m     13\u001b[39m     files = {\u001b[33m\"\u001b[39m\u001b[33mfile\u001b[39m\u001b[33m\"\u001b[39m: (\u001b[33m\"\u001b[39m\u001b[33maudio.mp3\u001b[39m\u001b[33m\"\u001b[39m, f, \u001b[33m\"\u001b[39m\u001b[33maudio/mpeg\u001b[39m\u001b[33m\"\u001b[39m)}\n\u001b[32m     14\u001b[39m     response = requests.post(upload_url, headers=headers, files=files)\n\u001b[32m---> \u001b[39m\u001b[32m15\u001b[39m \u001b[43mresponse\u001b[49m\u001b[43m.\u001b[49m\u001b[43mraise_for_status\u001b[49m\u001b[43m(\u001b[49m\u001b[43m)\u001b[49m\n\u001b[32m     16\u001b[39m \u001b[38;5;28;01mreturn\u001b[39;00m response.json()[\u001b[33m\"\u001b[39m\u001b[33murl\u001b[39m\u001b[33m\"\u001b[39m]\n",
      "\u001b[36mFile \u001b[39m\u001b[32md:\\NEETengine\\nenv\\Lib\\site-packages\\requests\\models.py:1024\u001b[39m, in \u001b[36mResponse.raise_for_status\u001b[39m\u001b[34m(self)\u001b[39m\n\u001b[32m   1019\u001b[39m     http_error_msg = (\n\u001b[32m   1020\u001b[39m         \u001b[33mf\u001b[39m\u001b[33m\"\u001b[39m\u001b[38;5;132;01m{\u001b[39;00m\u001b[38;5;28mself\u001b[39m.status_code\u001b[38;5;132;01m}\u001b[39;00m\u001b[33m Server Error: \u001b[39m\u001b[38;5;132;01m{\u001b[39;00mreason\u001b[38;5;132;01m}\u001b[39;00m\u001b[33m for url: \u001b[39m\u001b[38;5;132;01m{\u001b[39;00m\u001b[38;5;28mself\u001b[39m.url\u001b[38;5;132;01m}\u001b[39;00m\u001b[33m\"\u001b[39m\n\u001b[32m   1021\u001b[39m     )\n\u001b[32m   1023\u001b[39m \u001b[38;5;28;01mif\u001b[39;00m http_error_msg:\n\u001b[32m-> \u001b[39m\u001b[32m1024\u001b[39m     \u001b[38;5;28;01mraise\u001b[39;00m HTTPError(http_error_msg, response=\u001b[38;5;28mself\u001b[39m)\n",
      "\u001b[31mHTTPError\u001b[39m: 403 Client Error: Forbidden for url: https://api.d-id.com/uploads"
     ]
    }
   ],
   "source": [
    "audio_url = upload_audio(\"output/output.mp3\")"
   ]
  },
  {
   "cell_type": "code",
   "execution_count": null,
   "id": "6c16cf98",
   "metadata": {},
   "outputs": [],
   "source": [
    "def generate_video_from_audio(audio_path, image_url):\n",
    "    audio_url = upload_audio(audio_path)\n",
    "\n",
    "    url = \"https://api.d-id.com/talks\"\n",
    "    headers = {\n",
    "        \"Authorization\": f\"Bearer {D_ID_API_KEY}\",\n",
    "        \"Content-Type\": \"application/json\"\n",
    "    }\n",
    "    data = {\n",
    "        \"script\": {\n",
    "            \"type\": \"audio\",\n",
    "            \"audio_url\": audio_url\n",
    "        },\n",
    "        \"source_url\": image_url\n",
    "    }\n",
    "    response = requests.post(url, headers=headers, json=data)\n",
    "    response.raise_for_status()\n",
    "    talk_id = response.json()[\"id\"]\n",
    "\n",
    "    # Poll status\n",
    "    while True:\n",
    "        status_response = requests.get(f\"https://api.d-id.com/talks/{talk_id}\", headers=headers)\n",
    "        status_response.raise_for_status()\n",
    "        status_data = status_response.json()\n",
    "        if status_data.get(\"result_url\"):\n",
    "            break\n",
    "        time.sleep(5)\n",
    "\n",
    "    video_url = status_data[\"result_url\"]\n",
    "    video_response = requests.get(video_url)\n",
    "    video_response.raise_for_status()\n",
    "    os.makedirs(\"output\", exist_ok=True)\n",
    "    video_path = \"output/video.mp4\"\n",
    "    with open(video_path, \"wb\") as f:\n",
    "        f.write(video_response.content)\n",
    "\n",
    "    return video_path"
   ]
  },
  {
   "cell_type": "code",
   "execution_count": 3,
   "id": "89a60172",
   "metadata": {},
   "outputs": [],
   "source": [
    "import requests\n",
    "import time\n",
    "D_ID_API_KEY = os.getenv(\"D_ID_API_KEY\")\n",
    "\n",
    "def generate_video_from_audio(audio_path):\n",
    "    url = \"https://api.d-id.com/talks\"\n",
    "    headers = {\n",
    "        \"Authorization\": f\"Bearer {D_ID_API_KEY}\",\n",
    "        \"Content-Type\": \"application/json\"\n",
    "    }\n",
    "    with open(audio_path, \"rb\") as f:\n",
    "        audio_data = f.read()\n",
    "\n",
    "    # Upload audio\n",
    "    audio_upload = requests.post(\n",
    "        \"https://api.d-id.com/uploads\",\n",
    "        headers={\"Authorization\": f\"Bearer {D_ID_API_KEY}\"},\n",
    "        files={\"file\": (\"audio.mp3\", audio_data, \"audio/mpeg\")}\n",
    "    )\n",
    "    audio_url = audio_upload.json()[\"url\"]\n",
    "\n",
    "    # Generate video\n",
    "    data = {\n",
    "        \"script\": {\n",
    "            \"type\": \"audio\",\n",
    "            \"audio_url\": audio_url,\n",
    "            \"provider\": {\"type\": \"d-id\"},\n",
    "        },\n",
    "        \"source_url\": \"https://create-images-results.d-id.com/default_avatar.jpg\"\n",
    "    }\n",
    "    talk_response = requests.post(url, headers=headers, json=data).json()\n",
    "    talk_id = talk_response.get(\"id\")\n",
    "\n",
    "    # Poll status\n",
    "    while True:\n",
    "        status = requests.get(f\"https://api.d-id.com/talks/{talk_id}\", headers=headers).json()\n",
    "        if status.get(\"result_url\"):\n",
    "            break\n",
    "        time.sleep(5)\n",
    "\n",
    "    video_url = status[\"result_url\"]\n",
    "    video = requests.get(video_url)\n",
    "    with open(\"output/video.mp4\", \"wb\") as f:\n",
    "        f.write(video.content)\n",
    "\n",
    "    return \"output/video.mp4\"\n"
   ]
  },
  {
   "cell_type": "code",
   "execution_count": 4,
   "id": "14ac06a8",
   "metadata": {},
   "outputs": [
    {
     "ename": "KeyError",
     "evalue": "'url'",
     "output_type": "error",
     "traceback": [
      "\u001b[31m---------------------------------------------------------------------------\u001b[39m",
      "\u001b[31mKeyError\u001b[39m                                  Traceback (most recent call last)",
      "\u001b[36mCell\u001b[39m\u001b[36m \u001b[39m\u001b[32mIn[4]\u001b[39m\u001b[32m, line 2\u001b[39m\n\u001b[32m      1\u001b[39m \u001b[38;5;66;03m# ✅ Step 3: Generate avatar video\u001b[39;00m\n\u001b[32m----> \u001b[39m\u001b[32m2\u001b[39m video_file = \u001b[43mgenerate_video_from_audio\u001b[49m\u001b[43m(\u001b[49m\u001b[33;43m\"\u001b[39;49m\u001b[33;43moutput/output.mp3\u001b[39;49m\u001b[33;43m\"\u001b[39;49m\u001b[43m)\u001b[49m\n\u001b[32m      3\u001b[39m \u001b[38;5;28mprint\u001b[39m(\u001b[33m\"\u001b[39m\u001b[33m📹 Video saved at:\u001b[39m\u001b[33m\"\u001b[39m, video_file)\n",
      "\u001b[36mCell\u001b[39m\u001b[36m \u001b[39m\u001b[32mIn[3]\u001b[39m\u001b[32m, line 20\u001b[39m, in \u001b[36mgenerate_video_from_audio\u001b[39m\u001b[34m(audio_path)\u001b[39m\n\u001b[32m     14\u001b[39m \u001b[38;5;66;03m# Upload audio\u001b[39;00m\n\u001b[32m     15\u001b[39m audio_upload = requests.post(\n\u001b[32m     16\u001b[39m     \u001b[33m\"\u001b[39m\u001b[33mhttps://api.d-id.com/uploads\u001b[39m\u001b[33m\"\u001b[39m,\n\u001b[32m     17\u001b[39m     headers={\u001b[33m\"\u001b[39m\u001b[33mAuthorization\u001b[39m\u001b[33m\"\u001b[39m: \u001b[33mf\u001b[39m\u001b[33m\"\u001b[39m\u001b[33mBearer \u001b[39m\u001b[38;5;132;01m{\u001b[39;00mD_ID_API_KEY\u001b[38;5;132;01m}\u001b[39;00m\u001b[33m\"\u001b[39m},\n\u001b[32m     18\u001b[39m     files={\u001b[33m\"\u001b[39m\u001b[33mfile\u001b[39m\u001b[33m\"\u001b[39m: (\u001b[33m\"\u001b[39m\u001b[33maudio.mp3\u001b[39m\u001b[33m\"\u001b[39m, audio_data, \u001b[33m\"\u001b[39m\u001b[33maudio/mpeg\u001b[39m\u001b[33m\"\u001b[39m)}\n\u001b[32m     19\u001b[39m )\n\u001b[32m---> \u001b[39m\u001b[32m20\u001b[39m audio_url = \u001b[43maudio_upload\u001b[49m\u001b[43m.\u001b[49m\u001b[43mjson\u001b[49m\u001b[43m(\u001b[49m\u001b[43m)\u001b[49m\u001b[43m[\u001b[49m\u001b[33;43m\"\u001b[39;49m\u001b[33;43murl\u001b[39;49m\u001b[33;43m\"\u001b[39;49m\u001b[43m]\u001b[49m\n\u001b[32m     22\u001b[39m \u001b[38;5;66;03m# Generate video\u001b[39;00m\n\u001b[32m     23\u001b[39m data = {\n\u001b[32m     24\u001b[39m     \u001b[33m\"\u001b[39m\u001b[33mscript\u001b[39m\u001b[33m\"\u001b[39m: {\n\u001b[32m     25\u001b[39m         \u001b[33m\"\u001b[39m\u001b[33mtype\u001b[39m\u001b[33m\"\u001b[39m: \u001b[33m\"\u001b[39m\u001b[33maudio\u001b[39m\u001b[33m\"\u001b[39m,\n\u001b[32m   (...)\u001b[39m\u001b[32m     29\u001b[39m     \u001b[33m\"\u001b[39m\u001b[33msource_url\u001b[39m\u001b[33m\"\u001b[39m: \u001b[33m\"\u001b[39m\u001b[33mhttps://create-images-results.d-id.com/default_avatar.jpg\u001b[39m\u001b[33m\"\u001b[39m\n\u001b[32m     30\u001b[39m }\n",
      "\u001b[31mKeyError\u001b[39m: 'url'"
     ]
    }
   ],
   "source": [
    "# ✅ Step 3: Generate avatar video\n",
    "video_file = generate_video_from_audio(\"output/output.mp3\")\n",
    "print(\"📹 Video saved at:\", video_file)"
   ]
  },
  {
   "cell_type": "code",
   "execution_count": 7,
   "id": "2405a482",
   "metadata": {},
   "outputs": [
    {
     "name": "stdout",
     "output_type": "stream",
     "text": [
      "🔊 Audio generated.\n"
     ]
    },
    {
     "ename": "KeyError",
     "evalue": "'url'",
     "output_type": "error",
     "traceback": [
      "\u001b[31m---------------------------------------------------------------------------\u001b[39m",
      "\u001b[31mKeyError\u001b[39m                                  Traceback (most recent call last)",
      "\u001b[36mCell\u001b[39m\u001b[36m \u001b[39m\u001b[32mIn[7]\u001b[39m\u001b[32m, line 15\u001b[39m\n\u001b[32m     12\u001b[39m \u001b[38;5;28mprint\u001b[39m(\u001b[33m\"\u001b[39m\u001b[33m🔊 Audio generated.\u001b[39m\u001b[33m\"\u001b[39m)\n\u001b[32m     14\u001b[39m \u001b[38;5;66;03m# ✅ Step 3: Generate avatar video\u001b[39;00m\n\u001b[32m---> \u001b[39m\u001b[32m15\u001b[39m video_file = \u001b[43mgenerate_video_from_audio\u001b[49m\u001b[43m(\u001b[49m\u001b[43maudio_file\u001b[49m\u001b[43m)\u001b[49m\n\u001b[32m     16\u001b[39m \u001b[38;5;28mprint\u001b[39m(\u001b[33m\"\u001b[39m\u001b[33m📹 Video saved at:\u001b[39m\u001b[33m\"\u001b[39m, video_file)\n",
      "\u001b[36mCell\u001b[39m\u001b[36m \u001b[39m\u001b[32mIn[6]\u001b[39m\u001b[32m, line 20\u001b[39m, in \u001b[36mgenerate_video_from_audio\u001b[39m\u001b[34m(audio_path)\u001b[39m\n\u001b[32m     14\u001b[39m \u001b[38;5;66;03m# Upload audio\u001b[39;00m\n\u001b[32m     15\u001b[39m audio_upload = requests.post(\n\u001b[32m     16\u001b[39m     \u001b[33m\"\u001b[39m\u001b[33mhttps://api.d-id.com/uploads\u001b[39m\u001b[33m\"\u001b[39m,\n\u001b[32m     17\u001b[39m     headers={\u001b[33m\"\u001b[39m\u001b[33mAuthorization\u001b[39m\u001b[33m\"\u001b[39m: \u001b[33mf\u001b[39m\u001b[33m\"\u001b[39m\u001b[33mBearer \u001b[39m\u001b[38;5;132;01m{\u001b[39;00mD_ID_API_KEY\u001b[38;5;132;01m}\u001b[39;00m\u001b[33m\"\u001b[39m},\n\u001b[32m     18\u001b[39m     files={\u001b[33m\"\u001b[39m\u001b[33mfile\u001b[39m\u001b[33m\"\u001b[39m: (\u001b[33m\"\u001b[39m\u001b[33maudio.mp3\u001b[39m\u001b[33m\"\u001b[39m, audio_data, \u001b[33m\"\u001b[39m\u001b[33maudio/mpeg\u001b[39m\u001b[33m\"\u001b[39m)}\n\u001b[32m     19\u001b[39m )\n\u001b[32m---> \u001b[39m\u001b[32m20\u001b[39m audio_url = \u001b[43maudio_upload\u001b[49m\u001b[43m.\u001b[49m\u001b[43mjson\u001b[49m\u001b[43m(\u001b[49m\u001b[43m)\u001b[49m\u001b[43m[\u001b[49m\u001b[33;43m\"\u001b[39;49m\u001b[33;43murl\u001b[39;49m\u001b[33;43m\"\u001b[39;49m\u001b[43m]\u001b[49m\n\u001b[32m     22\u001b[39m \u001b[38;5;66;03m# Generate video\u001b[39;00m\n\u001b[32m     23\u001b[39m data = {\n\u001b[32m     24\u001b[39m     \u001b[33m\"\u001b[39m\u001b[33mscript\u001b[39m\u001b[33m\"\u001b[39m: {\n\u001b[32m     25\u001b[39m         \u001b[33m\"\u001b[39m\u001b[33mtype\u001b[39m\u001b[33m\"\u001b[39m: \u001b[33m\"\u001b[39m\u001b[33maudio\u001b[39m\u001b[33m\"\u001b[39m,\n\u001b[32m   (...)\u001b[39m\u001b[32m     29\u001b[39m     \u001b[33m\"\u001b[39m\u001b[33msource_url\u001b[39m\u001b[33m\"\u001b[39m: \u001b[33m\"\u001b[39m\u001b[33mhttps://create-images-results.d-id.com/default_avatar.jpg\u001b[39m\u001b[33m\"\u001b[39m\n\u001b[32m     30\u001b[39m }\n",
      "\u001b[31mKeyError\u001b[39m: 'url'"
     ]
    }
   ],
   "source": [
    "\n",
    "os.makedirs(\"output\", exist_ok=True)\n",
    "\n",
    "# ✅ Step 1: Manually enter the anchor script here\n",
    "script = \"\"\"\n",
    "Good evening. Today’s top story — scientists have unveiled a major breakthrough in fusion energy,\n",
    "bringing us one step closer to a clean and limitless power source.\n",
    "The announcement came earlier this morning, sparking excitement across the globe.\n",
    "\"\"\"\n",
    "\n",
    "# ✅ Step 2: Generate TTS from script\n",
    "audio_file = generate_tts_audio(script)\n",
    "print(\"🔊 Audio generated.\")\n",
    "\n",
    "# ✅ Step 3: Generate avatar video\n",
    "video_file = generate_video_from_audio(audio_file)\n",
    "print(\"📹 Video saved at:\", video_file)\n"
   ]
  }
 ],
 "metadata": {
  "kernelspec": {
   "display_name": "Python 3",
   "language": "python",
   "name": "python3"
  },
  "language_info": {
   "codemirror_mode": {
    "name": "ipython",
    "version": 3
   },
   "file_extension": ".py",
   "mimetype": "text/x-python",
   "name": "python",
   "nbconvert_exporter": "python",
   "pygments_lexer": "ipython3",
   "version": "3.12.0"
  }
 },
 "nbformat": 4,
 "nbformat_minor": 5
}
