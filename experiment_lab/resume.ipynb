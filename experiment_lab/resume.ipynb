{
 "cells": [
  {
   "cell_type": "code",
   "execution_count": 2,
   "id": "ddda6463",
   "metadata": {},
   "outputs": [
    {
     "name": "stdout",
     "output_type": "stream",
     "text": [
      "Collecting docx\n",
      "  Downloading docx-0.2.4.tar.gz (54 kB)\n",
      "  Preparing metadata (setup.py): started\n",
      "  Preparing metadata (setup.py): finished with status 'done'\n",
      "Requirement already satisfied: lxml in d:\\neetengine\\nenv\\lib\\site-packages (from docx) (5.4.0)\n",
      "Requirement already satisfied: Pillow>=2.0 in d:\\neetengine\\nenv\\lib\\site-packages (from docx) (10.4.0)\n",
      "Building wheels for collected packages: docx\n",
      "  Building wheel for docx (setup.py): started\n",
      "  Building wheel for docx (setup.py): finished with status 'done'\n",
      "  Created wheel for docx: filename=docx-0.2.4-py3-none-any.whl size=53939 sha256=1cef651400953cc947a86394310eb3661c05b959dd951b2414e4d0af33ffa986\n",
      "  Stored in directory: c:\\users\\lenovo\\appdata\\local\\pip\\cache\\wheels\\f3\\ba\\dd\\43ed5f165600f41deddeb1e382c56ffc1067c09ec5bd705f39\n",
      "Successfully built docx\n",
      "Installing collected packages: docx\n",
      "Successfully installed docx-0.2.4\n",
      "Note: you may need to restart the kernel to use updated packages.\n"
     ]
    },
    {
     "name": "stderr",
     "output_type": "stream",
     "text": [
      "  DEPRECATION: Building 'docx' using the legacy setup.py bdist_wheel mechanism, which will be removed in a future version. pip 25.3 will enforce this behaviour change. A possible replacement is to use the standardized build interface by setting the `--use-pep517` option, (possibly combined with `--no-build-isolation`), or adding a `pyproject.toml` file to the source tree of 'docx'. Discussion can be found at https://github.com/pypa/pip/issues/6334\n"
     ]
    }
   ],
   "source": [
    "pip install docx\n"
   ]
  },
  {
   "cell_type": "code",
   "execution_count": 4,
   "id": "c404da00",
   "metadata": {},
   "outputs": [
    {
     "name": "stdout",
     "output_type": "stream",
     "text": [
      "Note: you may need to restart the kernel to use updated packages.\n"
     ]
    },
    {
     "name": "stderr",
     "output_type": "stream",
     "text": [
      "ERROR: Could not find a version that satisfies the requirement exceptions (from versions: none)\n",
      "ERROR: No matching distribution found for exceptions\n"
     ]
    }
   ],
   "source": [
    "pip install exceptions"
   ]
  },
  {
   "cell_type": "code",
   "execution_count": 3,
   "id": "4f7fe6d0",
   "metadata": {},
   "outputs": [
    {
     "ename": "ModuleNotFoundError",
     "evalue": "No module named 'exceptions'",
     "output_type": "error",
     "traceback": [
      "\u001b[31m---------------------------------------------------------------------------\u001b[39m",
      "\u001b[31mModuleNotFoundError\u001b[39m                       Traceback (most recent call last)",
      "\u001b[36mCell\u001b[39m\u001b[36m \u001b[39m\u001b[32mIn[3]\u001b[39m\u001b[32m, line 1\u001b[39m\n\u001b[32m----> \u001b[39m\u001b[32m1\u001b[39m \u001b[38;5;28;01mfrom\u001b[39;00m\u001b[38;5;250m \u001b[39m\u001b[34;01mdocx\u001b[39;00m\u001b[38;5;250m \u001b[39m\u001b[38;5;28;01mimport\u001b[39;00m Document\n\u001b[32m      2\u001b[39m \u001b[38;5;28;01mfrom\u001b[39;00m\u001b[38;5;250m \u001b[39m\u001b[34;01mdocx\u001b[39;00m\u001b[34;01m.\u001b[39;00m\u001b[34;01mshared\u001b[39;00m\u001b[38;5;250m \u001b[39m\u001b[38;5;28;01mimport\u001b[39;00m Pt, Inches\n\u001b[32m      3\u001b[39m \u001b[38;5;28;01mfrom\u001b[39;00m\u001b[38;5;250m \u001b[39m\u001b[34;01mdocx\u001b[39;00m\u001b[34;01m.\u001b[39;00m\u001b[34;01menum\u001b[39;00m\u001b[34;01m.\u001b[39;00m\u001b[34;01mtext\u001b[39;00m\u001b[38;5;250m \u001b[39m\u001b[38;5;28;01mimport\u001b[39;00m WD_ALIGN_PARAGRAPH\n",
      "\u001b[36mFile \u001b[39m\u001b[32md:\\NEETengine\\nenv\\Lib\\site-packages\\docx.py:30\u001b[39m\n\u001b[32m     27\u001b[39m \u001b[38;5;28;01mexcept\u001b[39;00m \u001b[38;5;167;01mImportError\u001b[39;00m:\n\u001b[32m     28\u001b[39m     TAGS = {}\n\u001b[32m---> \u001b[39m\u001b[32m30\u001b[39m \u001b[38;5;28;01mfrom\u001b[39;00m\u001b[38;5;250m \u001b[39m\u001b[34;01mexceptions\u001b[39;00m\u001b[38;5;250m \u001b[39m\u001b[38;5;28;01mimport\u001b[39;00m \u001b[38;5;167;01mPendingDeprecationWarning\u001b[39;00m\n\u001b[32m     31\u001b[39m \u001b[38;5;28;01mfrom\u001b[39;00m\u001b[38;5;250m \u001b[39m\u001b[34;01mwarnings\u001b[39;00m\u001b[38;5;250m \u001b[39m\u001b[38;5;28;01mimport\u001b[39;00m warn\n\u001b[32m     33\u001b[39m \u001b[38;5;28;01mimport\u001b[39;00m\u001b[38;5;250m \u001b[39m\u001b[34;01mlogging\u001b[39;00m\n",
      "\u001b[31mModuleNotFoundError\u001b[39m: No module named 'exceptions'"
     ]
    }
   ],
   "source": [
    "from docx import Document\n",
    "from docx.shared import Pt, Inches\n",
    "from docx.enum.text import WD_ALIGN_PARAGRAPH\n",
    "\n",
    "# Create a new Document\n",
    "doc = Document()\n",
    "\n",
    "# Set default font\n",
    "def set_font(run, font_name=\"Arial\", size=11):\n",
    "    run.font.name = font_name\n",
    "    run.font.size = Pt(size)\n",
    "\n",
    "# Add heading (Name and Contact Info)\n",
    "name = doc.add_heading(\"Your Name\", level=1)\n",
    "name.alignment = WD_ALIGN_PARAGRAPH.CENTER\n",
    "for run in name.runs:\n",
    "    set_font(run, size=14)\n",
    "\n",
    "contact = doc.add_paragraph(\"Email: your.email@example.com | Phone: (123) 456-7890 | LinkedIn: linkedin.com/in/yourprofile | City, State\")\n",
    "contact.alignment = WD_ALIGN_PARAGRAPH.CENTER\n",
    "for run in contact.runs:\n",
    "    set_font(run)\n",
    "\n",
    "# Add horizontal line\n",
    "doc.add_paragraph(\"_\" * 80)\n",
    "\n",
    "# Objective Section\n",
    "doc.add_heading(\"Objective\", level=2)\n",
    "objective = doc.add_paragraph(\n",
    "    \"Motivated and detail-oriented recent graduate seeking an entry-level position in [Your Field] to apply strong technical skills and contribute to team success.\"\n",
    ")\n",
    "for run in objective.runs:\n",
    "    set_font(run)\n",
    "\n",
    "# Skills Section\n",
    "doc.add_heading(\"Skills\", level=2)\n",
    "skills = [\n",
    "    \"Programming: Python, Java, C++\",\n",
    "    \"Web Development: HTML, CSS, JavaScript\",\n",
    "    \"Tools: Git, Docker, VS Code\",\n",
    "    \"Soft Skills: Team Collaboration, Problem-Solving, Communication\"\n",
    "]\n",
    "for skill in skills:\n",
    "    p = doc.add_paragraph(skill, style=\"List Bullet\")\n",
    "    for run in p.runs:\n",
    "        set_font(run)\n",
    "\n",
    "# Projects Section\n",
    "doc.add_heading(\"Projects\", level=2)\n",
    "project1 = doc.add_paragraph(\"Personal Portfolio Website | HTML, CSS, JavaScript | Jan 2025 - Mar 2025\")\n",
    "for run in project1.runs:\n",
    "    set_font(run, size=11, bold=True)\n",
    "p1_details = doc.add_paragraph(\n",
    "    \"- Developed a responsive portfolio website to showcase projects and skills.\\n\"\n",
    "    \"- Implemented features like contact forms and dynamic content using JavaScript.\\n\"\n",
    "    \"- Deployed on GitHub Pages, ensuring cross-browser compatibility.\"\n",
    ")\n",
    "p1_details.style = \"List Bullet\"\n",
    "for run in p1_details.runs:\n",
    "    set_font(run)\n",
    "\n",
    "project2 = doc.add_paragraph(\"Task Management App | Python, Flask | Sep 2024 - Dec 2024\")\n",
    "for run in project2.runs:\n",
    "    set_font(run, size=11, bold=True)\n",
    "p2_details = doc.add_paragraph(\n",
    "    \"- Built a web application to manage tasks with user authentication.\\n\"\n",
    "    \"- Integrated SQLite database for task storage and retrieval.\\n\"\n",
    "    \"- Utilized Flask framework for backend development.\"\n",
    ")\n",
    "p2_details.style = \"List Bullet\"\n",
    "for run in p2_details.runs:\n",
    "    set_font(run)\n",
    "\n",
    "# Education Section\n",
    "doc.add_heading(\"Education\", level=2)\n",
    "edu = doc.add_paragraph(\"Bachelor of Science in [Your Major], [Your University], City, State | May 2025\")\n",
    "for run in edu.runs:\n",
    "    set_font(run, size=11, bold=True)\n",
    "edu_details = doc.add_paragraph(\"- GPA: 3.8/4.0\\n- Relevant Coursework: Data Structures, Algorithms, Web Development\")\n",
    "edu_details.style = \"List Bullet\"\n",
    "for run in edu_details.runs:\n",
    "    set_font(run)\n",
    "\n",
    "# Work Experience Section\n",
    "doc.add_heading(\"Work Experience\", level=2)\n",
    "work = doc.add_paragraph(\"Intern, [Company Name], City, State | Jun 2024 - Aug 2024\")\n",
    "for run in work.runs:\n",
    "    set_font(run, size=11, bold=True)\n",
    "work_details = doc.add_paragraph(\n",
    "    \"- Assisted in developing internal tools using Python and SQL.\\n\"\n",
    "    \"- Collaborated with a team to streamline data processing workflows.\\n\"\n",
    "    \"- Conducted testing and debugging to ensure software reliability.\"\n",
    ")\n",
    "work_details.style = \"List Bullet\"\n",
    "for run in work_details.runs:\n",
    "    set_font(run)\n",
    "\n",
    "# Save the document\n",
    "doc.save(\"ATS_Friendly_Resume.docx\")"
   ]
  }
 ],
 "metadata": {
  "kernelspec": {
   "display_name": "Python 3",
   "language": "python",
   "name": "python3"
  },
  "language_info": {
   "codemirror_mode": {
    "name": "ipython",
    "version": 3
   },
   "file_extension": ".py",
   "mimetype": "text/x-python",
   "name": "python",
   "nbconvert_exporter": "python",
   "pygments_lexer": "ipython3",
   "version": "3.12.0"
  }
 },
 "nbformat": 4,
 "nbformat_minor": 5
}
